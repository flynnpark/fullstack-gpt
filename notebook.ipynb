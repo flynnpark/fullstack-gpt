{
 "cells": [
  {
   "cell_type": "code",
   "execution_count": 24,
   "metadata": {},
   "outputs": [
    {
     "name": "stdout",
     "output_type": "stream",
     "text": [
      "\n",
      "\n",
      "\u001b[1m> Entering new LLMChain chain...\u001b[0m\n",
      "Prompt after formatting:\n",
      "\u001b[32;1m\u001b[1;3mSystem: You are a helpful AI talking to a human. \n",
      "Human: I'm Flynn.\u001b[0m\n",
      "\n",
      "\u001b[1m> Finished chain.\u001b[0m\n"
     ]
    },
    {
     "data": {
      "text/plain": [
       "{'question': \"I'm Flynn.\",\n",
       " 'chat_history': [HumanMessage(content=\"I'm Flynn.\"),\n",
       "  AIMessage(content='Hello Flynn! How can I assist you today?')],\n",
       " 'text': 'Hello Flynn! How can I assist you today?'}"
      ]
     },
     "execution_count": 24,
     "metadata": {},
     "output_type": "execute_result"
    }
   ],
   "source": [
    "from langchain.chains import LLMChain\n",
    "from langchain.memory import ConversationSummaryBufferMemory\n",
    "from langchain.prompts import ChatPromptTemplate, MessagesPlaceholder\n",
    "from langchain_openai import ChatOpenAI\n",
    "\n",
    "llm = ChatOpenAI(temperature=0.1)\n",
    "memory = ConversationSummaryBufferMemory(\n",
    "    llm=llm,\n",
    "    max_token_limit=120,\n",
    "    memory_key='chat_history',\n",
    "    return_messages=True,\n",
    ")\n",
    "prompt = ChatPromptTemplate.from_messages(\n",
    "    [\n",
    "        ('system', 'You are a helpful AI talking to a human. '),\n",
    "        MessagesPlaceholder(variable_name='chat_history'),\n",
    "        ('human', '{question}'),\n",
    "    ]\n",
    ")\n",
    "chain = LLMChain(\n",
    "    llm=llm,\n",
    "    memory=memory,\n",
    "    prompt=prompt,\n",
    "    verbose=True,\n",
    ")\n",
    "\n",
    "\n",
    "chain.invoke({'question': \"I'm Flynn.\"})"
   ]
  },
  {
   "cell_type": "code",
   "execution_count": 25,
   "metadata": {},
   "outputs": [
    {
     "name": "stdout",
     "output_type": "stream",
     "text": [
      "\n",
      "\n",
      "\u001b[1m> Entering new LLMChain chain...\u001b[0m\n",
      "Prompt after formatting:\n",
      "\u001b[32;1m\u001b[1;3mSystem: You are a helpful AI talking to a human. \n",
      "Human: I'm Flynn.\n",
      "AI: Hello Flynn! How can I assist you today?\n",
      "Human: I live in Seoul.\u001b[0m\n",
      "\n",
      "\u001b[1m> Finished chain.\u001b[0m\n"
     ]
    },
    {
     "data": {
      "text/plain": [
       "{'question': 'I live in Seoul.',\n",
       " 'chat_history': [HumanMessage(content=\"I'm Flynn.\"),\n",
       "  AIMessage(content='Hello Flynn! How can I assist you today?'),\n",
       "  HumanMessage(content='I live in Seoul.'),\n",
       "  AIMessage(content=\"That's great to know, Seoul is a vibrant city with a rich culture and history. Is there anything specific you'd like to know or talk about regarding Seoul?\")],\n",
       " 'text': \"That's great to know, Seoul is a vibrant city with a rich culture and history. Is there anything specific you'd like to know or talk about regarding Seoul?\"}"
      ]
     },
     "execution_count": 25,
     "metadata": {},
     "output_type": "execute_result"
    }
   ],
   "source": [
    "chain.invoke({'question': \"I live in Seoul.\"})"
   ]
  },
  {
   "cell_type": "code",
   "execution_count": 26,
   "metadata": {},
   "outputs": [
    {
     "name": "stdout",
     "output_type": "stream",
     "text": [
      "\n",
      "\n",
      "\u001b[1m> Entering new LLMChain chain...\u001b[0m\n",
      "Prompt after formatting:\n",
      "\u001b[32;1m\u001b[1;3mSystem: You are a helpful AI talking to a human. \n",
      "Human: I'm Flynn.\n",
      "AI: Hello Flynn! How can I assist you today?\n",
      "Human: I live in Seoul.\n",
      "AI: That's great to know, Seoul is a vibrant city with a rich culture and history. Is there anything specific you'd like to know or talk about regarding Seoul?\n",
      "Human: I'm a software engineer.\u001b[0m\n",
      "\n",
      "\u001b[1m> Finished chain.\u001b[0m\n"
     ]
    },
    {
     "data": {
      "text/plain": [
       "{'question': \"I'm a software engineer.\",\n",
       " 'chat_history': [HumanMessage(content=\"I'm Flynn.\"),\n",
       "  AIMessage(content='Hello Flynn! How can I assist you today?'),\n",
       "  HumanMessage(content='I live in Seoul.'),\n",
       "  AIMessage(content=\"That's great to know, Seoul is a vibrant city with a rich culture and history. Is there anything specific you'd like to know or talk about regarding Seoul?\"),\n",
       "  HumanMessage(content=\"I'm a software engineer.\"),\n",
       "  AIMessage(content=\"That's fantastic, Flynn! As a software engineer, you must work on interesting projects. Is there a particular aspect of software engineering that you find most fascinating or challenging?\")],\n",
       " 'text': \"That's fantastic, Flynn! As a software engineer, you must work on interesting projects. Is there a particular aspect of software engineering that you find most fascinating or challenging?\"}"
      ]
     },
     "execution_count": 26,
     "metadata": {},
     "output_type": "execute_result"
    }
   ],
   "source": [
    "chain.invoke({'question': \"I'm a software engineer.\"})"
   ]
  },
  {
   "cell_type": "code",
   "execution_count": 27,
   "metadata": {},
   "outputs": [
    {
     "name": "stdout",
     "output_type": "stream",
     "text": [
      "\n",
      "\n",
      "\u001b[1m> Entering new LLMChain chain...\u001b[0m\n",
      "Prompt after formatting:\n",
      "\u001b[32;1m\u001b[1;3mSystem: You are a helpful AI talking to a human. \n",
      "Human: I'm Flynn.\n",
      "AI: Hello Flynn! How can I assist you today?\n",
      "Human: I live in Seoul.\n",
      "AI: That's great to know, Seoul is a vibrant city with a rich culture and history. Is there anything specific you'd like to know or talk about regarding Seoul?\n",
      "Human: I'm a software engineer.\n",
      "AI: That's fantastic, Flynn! As a software engineer, you must work on interesting projects. Is there a particular aspect of software engineering that you find most fascinating or challenging?\n",
      "Human: Who am I?\u001b[0m\n",
      "\n",
      "\u001b[1m> Finished chain.\u001b[0m\n"
     ]
    },
    {
     "data": {
      "text/plain": [
       "{'question': 'Who am I?',\n",
       " 'chat_history': [HumanMessage(content=\"I'm a software engineer.\"),\n",
       "  AIMessage(content=\"That's fantastic, Flynn! As a software engineer, you must work on interesting projects. Is there a particular aspect of software engineering that you find most fascinating or challenging?\"),\n",
       "  HumanMessage(content='Who am I?'),\n",
       "  AIMessage(content=\"You are Flynn, a software engineer living in Seoul. You seem to have a passion for technology and software development. Is there anything else you'd like to share or discuss?\")],\n",
       " 'text': \"You are Flynn, a software engineer living in Seoul. You seem to have a passion for technology and software development. Is there anything else you'd like to share or discuss?\"}"
      ]
     },
     "execution_count": 27,
     "metadata": {},
     "output_type": "execute_result"
    }
   ],
   "source": [
    "chain.invoke({'question': \"Who am I?\"})"
   ]
  }
 ],
 "metadata": {
  "kernelspec": {
   "display_name": ".venv",
   "language": "python",
   "name": "python3"
  },
  "language_info": {
   "codemirror_mode": {
    "name": "ipython",
    "version": 3
   },
   "file_extension": ".py",
   "mimetype": "text/x-python",
   "name": "python",
   "nbconvert_exporter": "python",
   "pygments_lexer": "ipython3",
   "version": "3.11.8"
  }
 },
 "nbformat": 4,
 "nbformat_minor": 2
}
