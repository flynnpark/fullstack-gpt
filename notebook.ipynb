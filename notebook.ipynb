{
 "cells": [
  {
   "cell_type": "code",
   "execution_count": 14,
   "metadata": {},
   "outputs": [
    {
     "name": "stdout",
     "output_type": "stream",
     "text": [
      "In the realm of web development's art,\n",
      "There lies a language set apart.\n",
      "TypeScript, with its strong embrace,\n",
      "Brings order to the JavaScript space.\n",
      "\n",
      "With static types, errors are caught,\n",
      "Before runtime, they are sought.\n",
      "Interfaces and classes reign,\n",
      "In this world where type annotations gain.\n",
      "\n",
      "Compile to JavaScript, TypeScript can do,\n",
      "Bringing safety and structure anew.\n",
      "A poet's delight, a developer's dream,\n",
      "TypeScript shines with a radiant gleam.In the realm of web development's art,\n",
      "There lies a language set apart.\n",
      "TypeScript, with its strong embrace,\n",
      "Brings order to the JavaScript space.\n",
      "\n",
      "With static types, errors are caught,\n",
      "Before runtime, they are sought.\n",
      "Interfaces and classes reign,\n",
      "In this world where type annotations gain.\n",
      "\n",
      "Compile to JavaScript, TypeScript can do,\n",
      "Bringing safety and structure anew.\n",
      "A poet's delight, a developer's dream,\n",
      "TypeScript shines with a radiant gleam.\n",
      "\n",
      "---\n",
      "\n",
      "This poem celebrates TypeScript as a powerful and distinct language in the realm of web development. It highlights TypeScript's ability to bring order and structure to JavaScript code through its strong typing system. The poem emphasizes how TypeScript's static types help catch errors early, before runtime, and how features like interfaces and classes enhance the development process. It also praises TypeScript for its capability to compile to JavaScript while providing safety and structure, making it a delightful tool for both poets and developers alike. The radiant gleam symbolizes the brilliance and allure of TypeScript in the world of programming."
     ]
    },
    {
     "data": {
      "text/plain": [
       "AIMessage(content=\"In the realm of web development's art,\\nThere lies a language set apart.\\nTypeScript, with its strong embrace,\\nBrings order to the JavaScript space.\\n\\nWith static types, errors are caught,\\nBefore runtime, they are sought.\\nInterfaces and classes reign,\\nIn this world where type annotations gain.\\n\\nCompile to JavaScript, TypeScript can do,\\nBringing safety and structure anew.\\nA poet's delight, a developer's dream,\\nTypeScript shines with a radiant gleam.\\n\\n---\\n\\nThis poem celebrates TypeScript as a powerful and distinct language in the realm of web development. It highlights TypeScript's ability to bring order and structure to JavaScript code through its strong typing system. The poem emphasizes how TypeScript's static types help catch errors early, before runtime, and how features like interfaces and classes enhance the development process. It also praises TypeScript for its capability to compile to JavaScript while providing safety and structure, making it a delightful tool for both poets and developers alike. The radiant gleam symbolizes the brilliance and allure of TypeScript in the world of programming.\")"
      ]
     },
     "execution_count": 14,
     "metadata": {},
     "output_type": "execute_result"
    }
   ],
   "source": [
    "from langchain_openai import ChatOpenAI\n",
    "from langchain.prompts import ChatPromptTemplate\n",
    "from langchain.callbacks import StreamingStdOutCallbackHandler\n",
    "\n",
    "\n",
    "chat = ChatOpenAI(\n",
    "    model=\"gpt-3.5-turbo\",\n",
    "    temperature=0.1,\n",
    "    streaming=True,\n",
    ")\n",
    "poet_prompt = ChatPromptTemplate.from_messages(\n",
    "    [\n",
    "        (\n",
    "            \"system\",\n",
    "            \"You are a developer and poet who writes poetry about programming with world-class skill. If you listen to a programming language, you can write short poetry about it.\",\n",
    "        ),\n",
    "        (\"human\", \"I would like to see a poem about {language}.\"),\n",
    "    ]\n",
    ")\n",
    "poet_chain = poet_prompt | chat\n",
    "literary_man_prompt = ChatPromptTemplate.from_messages(\n",
    "    [\n",
    "        (\n",
    "            \"system\",\n",
    "            \"You are a literary expert who is excellent at interpreting poetry. No matter what poem you receive, you can interpret it. When you answer, you will show the original poem and then your interpretation of the poem, with a separator to help you distinguish between the poem and the interpretation.\",\n",
    "        ),\n",
    "        (\"human\", \"{poem}\"),\n",
    "    ]\n",
    ")\n",
    "literary_man_prompt = literary_man_prompt | chat\n",
    "\n",
    "final_chain = {\"poem\": poet_chain} | literary_man_prompt\n",
    "\n",
    "final_chain.invoke(\n",
    "    {\n",
    "        \"language\": \"typescript\",\n",
    "    },\n",
    "    {\"callbacks\": [StreamingStdOutCallbackHandler()]},\n",
    ")"
   ]
  }
 ],
 "metadata": {
  "kernelspec": {
   "display_name": ".venv",
   "language": "python",
   "name": "python3"
  },
  "language_info": {
   "codemirror_mode": {
    "name": "ipython",
    "version": 3
   },
   "file_extension": ".py",
   "mimetype": "text/x-python",
   "name": "python",
   "nbconvert_exporter": "python",
   "pygments_lexer": "ipython3",
   "version": "3.11.8"
  }
 },
 "nbformat": 4,
 "nbformat_minor": 2
}
