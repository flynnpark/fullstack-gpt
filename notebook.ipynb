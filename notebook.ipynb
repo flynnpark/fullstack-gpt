{
 "cells": [
  {
   "cell_type": "code",
   "execution_count": 4,
   "metadata": {},
   "outputs": [],
   "source": [
    "from langchain_openai import ChatOpenAI\n",
    "from langchain.prompts import ChatPromptTemplate\n",
    "from langchain.callbacks import StreamingStdOutCallbackHandler\n",
    "\n",
    "\n",
    "chat = ChatOpenAI(temperature=0.1, streaming=True, callbacks=[StreamingStdOutCallbackHandler()])\n",
    "chef_prompt = ChatPromptTemplate.from_messages(\n",
    "    [\n",
    "        (\n",
    "            \"system\",\n",
    "            \"You are a world-class international chef. You create easy to follow recipes for any type of cuisine with easy to find ingredients.\",\n",
    "        ),\n",
    "        (\"human\", \"I want to cook {cuisine} food.\"),\n",
    "    ]\n",
    ")\n",
    "chef_chain = chef_prompt | chat"
   ]
  },
  {
   "cell_type": "code",
   "execution_count": 5,
   "metadata": {},
   "outputs": [
    {
     "name": "stdout",
     "output_type": "stream",
     "text": [
      "Great choice! Let's make a classic and delicious Spaghetti Aglio e Olio. Here's the recipe:\n",
      "\n",
      "Ingredients:\n",
      "- 8 oz spaghetti\n",
      "- 4 cloves of garlic, thinly sliced\n",
      "- 1/4 cup extra virgin olive oil\n",
      "- 1/2 tsp red pepper flakes\n",
      "- Salt and pepper to taste\n",
      "- Grated Parmesan cheese (optional)\n",
      "- Chopped fresh parsley for garnish\n",
      "\n",
      "Instructions:\n",
      "1. Cook the spaghetti in a large pot of salted boiling water according to package instructions until al dente. Reserve 1 cup of pasta water before draining the spaghetti.\n",
      "\n",
      "2. In a large skillet, heat the olive oil over medium heat. Add the sliced garlic and red pepper flakes. Cook, stirring frequently, until the garlic is golden and fragrant, about 2-3 minutes. Be careful not to burn the garlic.\n",
      "\n",
      "3. Add the cooked spaghetti to the skillet along with 1/2 cup of the reserved pasta water. Toss the spaghetti in the garlic oil mixture, adding more pasta water as needed to create a light sauce that coats the pasta.\n",
      "\n",
      "4. Season with salt and pepper to taste. If desired, sprinkle with grated Parmesan cheese and chopped parsley before serving.\n",
      "\n",
      "5. Serve the Spaghetti Aglio e Olio hot, garnished with additional Parmesan cheese and parsley if desired.\n",
      "\n",
      "Enjoy your homemade Italian meal! Buon appetito!For the Spaghetti Aglio e Olio recipe, here are some vegetarian alternatives and preparation tips:\n",
      "\n",
      "- **Spaghetti**: No alternative needed, as spaghetti is already vegetarian.\n",
      "\n",
      "- **Garlic**: Garlic is a crucial ingredient in this recipe. You can use the same amount of garlic as mentioned in the recipe. To prepare, peel the garlic cloves and thinly slice them as directed.\n",
      "\n",
      "- **Extra Virgin Olive Oil**: Extra virgin olive oil is perfect for this dish. Make sure to use a good quality one for the best flavor.\n",
      "\n",
      "- **Red Pepper Flakes**: Red pepper flakes add a nice kick to the dish. You can use the same amount as mentioned in the recipe.\n",
      "\n",
      "- **Salt and Pepper**: Use salt and pepper as per your taste preference.\n",
      "\n",
      "- **Grated Parmesan Cheese**: If you want to keep the dish fully vegetarian, you can use vegetarian-friendly Parmesan cheese or a similar hard cheese alternative. There are several brands that offer vegetarian versions of Parmesan cheese made without animal rennet. Sprinkle the cheese on top just before serving.\n",
      "\n",
      "- **Chopped Fresh Parsley**: Fresh parsley adds a pop of color and freshness to the dish. Chop the parsley finely and use it as a garnish as suggested in the recipe.\n",
      "\n",
      "Overall, this vegetarian version of Spaghetti Aglio e Olio stays true to the traditional recipe while offering suitable alternatives for a meat-free meal. Enjoy your cooking!"
     ]
    },
    {
     "data": {
      "text/plain": [
       "AIMessage(content='For the Spaghetti Aglio e Olio recipe, here are some vegetarian alternatives and preparation tips:\\n\\n- **Spaghetti**: No alternative needed, as spaghetti is already vegetarian.\\n\\n- **Garlic**: Garlic is a crucial ingredient in this recipe. You can use the same amount of garlic as mentioned in the recipe. To prepare, peel the garlic cloves and thinly slice them as directed.\\n\\n- **Extra Virgin Olive Oil**: Extra virgin olive oil is perfect for this dish. Make sure to use a good quality one for the best flavor.\\n\\n- **Red Pepper Flakes**: Red pepper flakes add a nice kick to the dish. You can use the same amount as mentioned in the recipe.\\n\\n- **Salt and Pepper**: Use salt and pepper as per your taste preference.\\n\\n- **Grated Parmesan Cheese**: If you want to keep the dish fully vegetarian, you can use vegetarian-friendly Parmesan cheese or a similar hard cheese alternative. There are several brands that offer vegetarian versions of Parmesan cheese made without animal rennet. Sprinkle the cheese on top just before serving.\\n\\n- **Chopped Fresh Parsley**: Fresh parsley adds a pop of color and freshness to the dish. Chop the parsley finely and use it as a garnish as suggested in the recipe.\\n\\nOverall, this vegetarian version of Spaghetti Aglio e Olio stays true to the traditional recipe while offering suitable alternatives for a meat-free meal. Enjoy your cooking!')"
      ]
     },
     "execution_count": 5,
     "metadata": {},
     "output_type": "execute_result"
    }
   ],
   "source": [
    "vegetarian_chef_prompt = ChatPromptTemplate.from_messages(\n",
    "    [\n",
    "        (\n",
    "            \"system\",\n",
    "            \"You are a vegetarian chef specialized on making traditional recipes vegetarian. You find alternative ingredients and explain their preparation. You don't radically modify the recipe. If there is no alternative for a food just say you don't know how to replace it.\",\n",
    "        ),\n",
    "        (\"human\", \"{recipe}\"),\n",
    "    ]\n",
    ")\n",
    "vegetarian_chain = vegetarian_chef_prompt | chat\n",
    "\n",
    "final_chain = {\"recipe\": chef_chain} | vegetarian_chain\n",
    "\n",
    "final_chain.invoke(\n",
    "    {\n",
    "        \"cuisine\": \"italian\",\n",
    "    }\n",
    ")"
   ]
  }
 ],
 "metadata": {
  "kernelspec": {
   "display_name": ".venv",
   "language": "python",
   "name": "python3"
  },
  "language_info": {
   "codemirror_mode": {
    "name": "ipython",
    "version": 3
   },
   "file_extension": ".py",
   "mimetype": "text/x-python",
   "name": "python",
   "nbconvert_exporter": "python",
   "pygments_lexer": "ipython3",
   "version": "3.11.8"
  }
 },
 "nbformat": 4,
 "nbformat_minor": 2
}
