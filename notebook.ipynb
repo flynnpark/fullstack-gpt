{
 "cells": [
  {
   "cell_type": "code",
   "execution_count": 9,
   "metadata": {},
   "outputs": [
    {
     "name": "stdout",
     "output_type": "stream",
     "text": [
      "================================\u001b[1m System Message \u001b[0m================================\n",
      "\n",
      "You are a helpful assistant\n",
      "\n",
      "=============================\u001b[1m Messages Placeholder \u001b[0m=============================\n",
      "\n",
      "\u001b[33;1m\u001b[1;3m{chat_history}\u001b[0m\n",
      "\n",
      "================================\u001b[1m Human Message \u001b[0m=================================\n",
      "\n",
      "\u001b[33;1m\u001b[1;3m{input}\u001b[0m\n",
      "\n",
      "=============================\u001b[1m Messages Placeholder \u001b[0m=============================\n",
      "\n",
      "\u001b[33;1m\u001b[1;3m{agent_scratchpad}\u001b[0m\n",
      "\n",
      "\n",
      "\u001b[1m> Entering new AgentExecutor chain...\u001b[0m\n",
      "\u001b[32;1m\u001b[1;3m\n",
      "Invoking: `wikipedia` with `XZ backdoor`\n",
      "\n",
      "\n",
      "\u001b[0m\u001b[33;1m\u001b[1;3mPage: XZ Utils backdoor\n",
      "Summary: On 29 March 2024, software developer Andres Freund reported that he had found a maliciously introduced backdoor in the Linux utility xz within the liblzma library in versions 5.6.0 and 5.6.1 released in February 2024.While xz is commonly present in most Linux distributions, the backdoor only targeted Debian- and RPM-based systems running on the x86-64 architecture. At the time of discovery the backdoored version had not yet been widely deployed to production systems, but was present in development versions of major distributions.The backdoor gives an attacker who possesses a specific Ed448 private key remote code execution capabilities on the affected Linux systems. The issue has been assigned a CVSS score of 10.0, the highest possible score.\u001b[0m\u001b[32;1m\u001b[1;3mThe XZ backdoor refers to a maliciously introduced backdoor found in the Linux utility xz within the liblzma library. The backdoor was reported on 29 March 2024 by software developer Andres Freund. It was present in versions 5.6.0 and 5.6.1 of xz released in February 2024. The backdoor specifically targeted Debian- and RPM-based systems running on the x86-64 architecture.\n",
      "\n",
      "Although xz is commonly found in most Linux distributions, the backdoor only affected specific systems. The backdoor allowed an attacker with a specific Ed448 private key to execute remote code on the affected Linux systems. The issue was assigned a CVSS score of 10.0, the highest possible score. At the time of discovery, the backdoored version had not been widely deployed to production systems but was present in development versions of major distributions.\u001b[0m\n",
      "\n",
      "\u001b[1m> Finished chain.\u001b[0m\n"
     ]
    },
    {
     "data": {
      "text/plain": [
       "{'input': 'Research about the XZ backdoor',\n",
       " 'output': 'The XZ backdoor refers to a maliciously introduced backdoor found in the Linux utility xz within the liblzma library. The backdoor was reported on 29 March 2024 by software developer Andres Freund. It was present in versions 5.6.0 and 5.6.1 of xz released in February 2024. The backdoor specifically targeted Debian- and RPM-based systems running on the x86-64 architecture.\\n\\nAlthough xz is commonly found in most Linux distributions, the backdoor only affected specific systems. The backdoor allowed an attacker with a specific Ed448 private key to execute remote code on the affected Linux systems. The issue was assigned a CVSS score of 10.0, the highest possible score. At the time of discovery, the backdoored version had not been widely deployed to production systems but was present in development versions of major distributions.'}"
      ]
     },
     "execution_count": 9,
     "metadata": {},
     "output_type": "execute_result"
    }
   ],
   "source": [
    "from typing import Type\n",
    "from langchain.agents import AgentExecutor, create_openai_tools_agent\n",
    "from langchain_openai import ChatOpenAI\n",
    "from langchain import hub\n",
    "from langchain_community.tools.ddg_search.tool import DuckDuckGoSearchResults\n",
    "from langchain_community.tools.wikipedia.tool import WikipediaQueryRun\n",
    "from langchain_community.utilities.wikipedia import WikipediaAPIWrapper\n",
    "from pydantic import BaseModel, Field\n",
    "from langchain_community.utilities.duckduckgo_search import DuckDuckGoSearchAPIWrapper\n",
    "\n",
    "import wikipedia\n",
    "from langchain.tools import BaseTool\n",
    "\n",
    "\n",
    "class DuckDuckGoSearchToolArgsSchema(BaseModel):\n",
    "    query: str = Field(\n",
    "        title=\"Query\",\n",
    "        description=\"The search query to search for\",\n",
    "    )\n",
    "\n",
    "\n",
    "class DuckDuckGoSearchTool(BaseTool):\n",
    "    name = \"DuckDuckGoSearchTool\"\n",
    "    description = \"Searches DuckDuckGo for the top search results\"\n",
    "    args_schema: Type[DuckDuckGoSearchToolArgsSchema] = DuckDuckGoSearchToolArgsSchema\n",
    "\n",
    "    def _run(self, query: str):\n",
    "        duckduckgo = DuckDuckGoSearchAPIWrapper()\n",
    "        return duckduckgo.run(query)\n",
    "\n",
    "\n",
    "wiki_wrapper = WikipediaAPIWrapper(\n",
    "    wiki_client=wikipedia, top_k_results=1, doc_content_chars_max=1000\n",
    ")\n",
    "\n",
    "llm = ChatOpenAI(temperature=0.1)\n",
    "prompt = hub.pull(\"hwchase17/openai-tools-agent\")\n",
    "prompt.pretty_print()\n",
    "tools = [DuckDuckGoSearchTool(), WikipediaQueryRun(api_wrapper=wiki_wrapper)]\n",
    "\n",
    "agent = create_openai_tools_agent(\n",
    "    llm=llm,\n",
    "    tools=tools,\n",
    "    prompt=prompt,\n",
    ")\n",
    "\n",
    "\n",
    "agent_executor = AgentExecutor(agent=agent, tools=tools, verbose=True)\n",
    "agent_executor.invoke({\"input\": \"Research about the XZ backdoor\"})"
   ]
  }
 ],
 "metadata": {
  "kernelspec": {
   "display_name": ".venv",
   "language": "python",
   "name": "python3"
  },
  "language_info": {
   "codemirror_mode": {
    "name": "ipython",
    "version": 3
   },
   "file_extension": ".py",
   "mimetype": "text/x-python",
   "name": "python",
   "nbconvert_exporter": "python",
   "pygments_lexer": "ipython3",
   "version": "3.11.8"
  }
 },
 "nbformat": 4,
 "nbformat_minor": 2
}
