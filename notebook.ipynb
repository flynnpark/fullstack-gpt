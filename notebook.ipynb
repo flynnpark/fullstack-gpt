{
 "cells": [
  {
   "cell_type": "code",
   "execution_count": 5,
   "metadata": {},
   "outputs": [],
   "source": [
    "import openai as client\n",
    "from openai.types.beta import FunctionToolParam, AssistantToolParam\n",
    "from openai.types.shared_params import FunctionDefinition\n",
    "from app.agent import DuckDuckGoSearchTool\n",
    "\n",
    "def search_duckduckgo(query: str) -> str:\n",
    "    return DuckDuckGoSearchTool()._run(query)\n",
    "\n",
    "\n",
    "functions: list[AssistantToolParam] = [\n",
    "    FunctionToolParam(\n",
    "        type=\"function\",\n",
    "        function=FunctionDefinition(\n",
    "            name=\"search_duckduckgo\",\n",
    "            description=\"Search the web for information\",\n",
    "            parameters={\n",
    "                \"type\": \"object\",\n",
    "                \"properties\": {\n",
    "                    \"query\": {\n",
    "                        \"type\": \"string\",\n",
    "                        \"description\": \"The query to search for\",\n",
    "                    }\n",
    "                },\n",
    "                \"required\": [\"query\"],\n",
    "            },\n",
    "        ),\n",
    "    )\n",
    "]\n",
    "\n",
    "\n",
    "assistant = client.beta.assistants.create(\n",
    "    name=\"Search Assistant\",\n",
    "    description=\"Search the web for information\",\n",
    "    model=\"gpt-3.5-turbo-1106\",\n",
    "    tools=functions,\n",
    ")"
   ]
  }
 ],
 "metadata": {
  "kernelspec": {
   "display_name": ".venv",
   "language": "python",
   "name": "python3"
  },
  "language_info": {
   "codemirror_mode": {
    "name": "ipython",
    "version": 3
   },
   "file_extension": ".py",
   "mimetype": "text/x-python",
   "name": "python",
   "nbconvert_exporter": "python",
   "pygments_lexer": "ipython3",
   "version": "3.11.8"
  }
 },
 "nbformat": 4,
 "nbformat_minor": 2
}
