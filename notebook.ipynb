{
 "cells": [
  {
   "cell_type": "code",
   "execution_count": 20,
   "metadata": {},
   "outputs": [
    {
     "name": "stdout",
     "output_type": "stream",
     "text": [
      "\n",
      "\n",
      "\u001b[1m> Entering new LLMChain chain...\u001b[0m\n",
      "Prompt after formatting:\n",
      "\u001b[32;1m\u001b[1;3m\n",
      "You are a helpful AI talking to a human.\n",
      "\n",
      "\n",
      "Human: I'm Flynn.\n",
      "You:\n",
      "\u001b[0m\n",
      "\n",
      "\u001b[1m> Finished chain.\u001b[0m\n"
     ]
    },
    {
     "data": {
      "text/plain": [
       "{'question': \"I'm Flynn.\",\n",
       " 'chat_history': '',\n",
       " 'text': 'Hello Flynn! How can I assist you today?'}"
      ]
     },
     "execution_count": 20,
     "metadata": {},
     "output_type": "execute_result"
    }
   ],
   "source": [
    "from langchain.memory import ConversationSummaryBufferMemory\n",
    "from langchain.chains import LLMChain\n",
    "from langchain.prompts import PromptTemplate\n",
    "from langchain_openai import ChatOpenAI\n",
    "\n",
    "\n",
    "llm = ChatOpenAI(temperature=0.1)\n",
    "memory = ConversationSummaryBufferMemory(\n",
    "    llm=llm,\n",
    "    max_token_limit=120,\n",
    "    memory_key='chat_history',\n",
    ")\n",
    "template = '''\n",
    "You are a helpful AI talking to a human.\n",
    "\n",
    "{chat_history}\n",
    "Human: {question}\n",
    "You:\n",
    "'''\n",
    "chain = LLMChain(\n",
    "    llm=llm,\n",
    "    memory=memory,\n",
    "    prompt=PromptTemplate.from_template(template=template),\n",
    "    verbose=True,\n",
    ")\n",
    "\n",
    "\n",
    "chain.invoke({'question': \"I'm Flynn.\"})"
   ]
  },
  {
   "cell_type": "code",
   "execution_count": 21,
   "metadata": {},
   "outputs": [
    {
     "name": "stdout",
     "output_type": "stream",
     "text": [
      "\n",
      "\n",
      "\u001b[1m> Entering new LLMChain chain...\u001b[0m\n",
      "Prompt after formatting:\n",
      "\u001b[32;1m\u001b[1;3m\n",
      "You are a helpful AI talking to a human.\n",
      "\n",
      "Human: I'm Flynn.\n",
      "AI: Hello Flynn! How can I assist you today?\n",
      "Human: I live in Seoul.\n",
      "You:\n",
      "\u001b[0m\n",
      "\n",
      "\u001b[1m> Finished chain.\u001b[0m\n"
     ]
    },
    {
     "data": {
      "text/plain": [
       "{'question': 'I live in Seoul.',\n",
       " 'chat_history': \"Human: I'm Flynn.\\nAI: Hello Flynn! How can I assist you today?\",\n",
       " 'text': \"That's great to hear! Seoul is a vibrant and bustling city. Is there anything specific you would like to know or discuss about living in Seoul?\"}"
      ]
     },
     "execution_count": 21,
     "metadata": {},
     "output_type": "execute_result"
    }
   ],
   "source": [
    "chain.invoke({'question': \"I live in Seoul.\"})"
   ]
  },
  {
   "cell_type": "code",
   "execution_count": 22,
   "metadata": {},
   "outputs": [
    {
     "name": "stdout",
     "output_type": "stream",
     "text": [
      "\n",
      "\n",
      "\u001b[1m> Entering new LLMChain chain...\u001b[0m\n",
      "Prompt after formatting:\n",
      "\u001b[32;1m\u001b[1;3m\n",
      "You are a helpful AI talking to a human.\n",
      "\n",
      "Human: I'm Flynn.\n",
      "AI: Hello Flynn! How can I assist you today?\n",
      "Human: I live in Seoul.\n",
      "AI: That's great to hear! Seoul is a vibrant and bustling city. Is there anything specific you would like to know or discuss about living in Seoul?\n",
      "Human: I'm a software engineer.\n",
      "You:\n",
      "\u001b[0m\n",
      "\n",
      "\u001b[1m> Finished chain.\u001b[0m\n"
     ]
    },
    {
     "data": {
      "text/plain": [
       "{'question': \"I'm a software engineer.\",\n",
       " 'chat_history': \"Human: I'm Flynn.\\nAI: Hello Flynn! How can I assist you today?\\nHuman: I live in Seoul.\\nAI: That's great to hear! Seoul is a vibrant and bustling city. Is there anything specific you would like to know or discuss about living in Seoul?\",\n",
       " 'text': \"AI: That's fantastic! Seoul is a hub for technology and innovation, so I'm sure there are plenty of opportunities for software engineers like yourself. Is there anything specific you would like to know about the tech industry in Seoul or any advice you may need for your career as a software engineer in the city?\"}"
      ]
     },
     "execution_count": 22,
     "metadata": {},
     "output_type": "execute_result"
    }
   ],
   "source": [
    "chain.invoke({'question': \"I'm a software engineer.\"})"
   ]
  },
  {
   "cell_type": "code",
   "execution_count": 23,
   "metadata": {},
   "outputs": [
    {
     "name": "stdout",
     "output_type": "stream",
     "text": [
      "\n",
      "\n",
      "\u001b[1m> Entering new LLMChain chain...\u001b[0m\n",
      "Prompt after formatting:\n",
      "\u001b[32;1m\u001b[1;3m\n",
      "You are a helpful AI talking to a human.\n",
      "\n",
      "System: Flynn introduces himself to the AI and mentions that he lives in Seoul.\n",
      "AI: That's great to hear! Seoul is a vibrant and bustling city. Is there anything specific you would like to know or discuss about living in Seoul?\n",
      "Human: I'm a software engineer.\n",
      "AI: AI: That's fantastic! Seoul is a hub for technology and innovation, so I'm sure there are plenty of opportunities for software engineers like yourself. Is there anything specific you would like to know about the tech industry in Seoul or any advice you may need for your career as a software engineer in the city?\n",
      "Human: Who am I?\n",
      "You:\n",
      "\u001b[0m\n",
      "\n",
      "\u001b[1m> Finished chain.\u001b[0m\n"
     ]
    },
    {
     "data": {
      "text/plain": [
       "{'question': 'Who am I?',\n",
       " 'chat_history': \"System: Flynn introduces himself to the AI and mentions that he lives in Seoul.\\nAI: That's great to hear! Seoul is a vibrant and bustling city. Is there anything specific you would like to know or discuss about living in Seoul?\\nHuman: I'm a software engineer.\\nAI: AI: That's fantastic! Seoul is a hub for technology and innovation, so I'm sure there are plenty of opportunities for software engineers like yourself. Is there anything specific you would like to know about the tech industry in Seoul or any advice you may need for your career as a software engineer in the city?\",\n",
       " 'text': 'You are Flynn, a software engineer living in Seoul. You have a passion for technology and innovation, and you are looking to further your career in the tech industry. Is there anything else you would like to know or discuss?'}"
      ]
     },
     "execution_count": 23,
     "metadata": {},
     "output_type": "execute_result"
    }
   ],
   "source": [
    "chain.invoke({'question': \"Who am I?\"})"
   ]
  }
 ],
 "metadata": {
  "kernelspec": {
   "display_name": ".venv",
   "language": "python",
   "name": "python3"
  },
  "language_info": {
   "codemirror_mode": {
    "name": "ipython",
    "version": 3
   },
   "file_extension": ".py",
   "mimetype": "text/x-python",
   "name": "python",
   "nbconvert_exporter": "python",
   "pygments_lexer": "ipython3",
   "version": "3.11.8"
  }
 },
 "nbformat": 4,
 "nbformat_minor": 2
}
