{
 "cells": [
  {
   "cell_type": "code",
   "execution_count": 4,
   "metadata": {},
   "outputs": [
    {
     "name": "stdout",
     "output_type": "stream",
     "text": [
      "Token has not been saved to git credential helper. Pass `add_to_git_credential=True` if you want to set the git credential as well.\n",
      "Token is valid (permission: write).\n",
      "Your token has been saved to /Users/flynn/.cache/huggingface/token\n",
      "Login successful\n"
     ]
    },
    {
     "data": {
      "text/plain": [
       "' Potato is a type of root vegetable that belongs to the Solanum tuberosum family. It is a starchy vegetable that is widely cultivated and consumed in many parts of the world. The word \"potato\" comes from the Spanish word \"patata,\" which is derived from the Taino word \"batata.\" In many languages, the word for potato is similar to the Spanish word, such as \"pomme de terre\" in French and \" Kartoffel\" in German.\\nPotatoes are a good source of fiber, potassium, and several important vitamins and minerals, including vitamin C, vitamin B6, and iron. They are also low in calories and fat, making them a popular choice for people following a healthy diet. Potatoes are versatile and can be prepared in many ways, including baking, boiling, mashing, and frying.\\nIn many cultures, potatoes are a staple food and are used in a variety of dishes, such as soups, stews, and salads. They are also used to make a variety of products, such as chips, fries, and potato bread. In some parts of the world, potatoes are used as a form of currency or as a symbol of prosperity.\\nOverall, the meaning of'"
      ]
     },
     "execution_count": 4,
     "metadata": {},
     "output_type": "execute_result"
    }
   ],
   "source": [
    "import os\n",
    "from langchain.llms.huggingface_endpoint import HuggingFaceEndpoint\n",
    "from langchain.prompts import PromptTemplate\n",
    "\n",
    "\n",
    "prompt = PromptTemplate.from_template(\"What is the meaning of {word}?\")\n",
    "llm = HuggingFaceEndpoint(\n",
    "    repo_id=\"meta-llama/Meta-Llama-3-8B-Instruct\",\n",
    "    max_new_tokens=250,\n",
    ")\n",
    "\n",
    "chain = prompt | llm\n",
    "chain.invoke(\n",
    "    {\n",
    "        \"word\": \"potato\",\n",
    "    }\n",
    ")"
   ]
  }
 ],
 "metadata": {
  "kernelspec": {
   "display_name": ".venv",
   "language": "python",
   "name": "python3"
  },
  "language_info": {
   "codemirror_mode": {
    "name": "ipython",
    "version": 3
   },
   "file_extension": ".py",
   "mimetype": "text/x-python",
   "name": "python",
   "nbconvert_exporter": "python",
   "pygments_lexer": "ipython3",
   "version": "3.11.8"
  }
 },
 "nbformat": 4,
 "nbformat_minor": 2
}
