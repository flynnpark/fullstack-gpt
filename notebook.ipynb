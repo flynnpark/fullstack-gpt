{
 "cells": [
  {
   "cell_type": "code",
   "execution_count": 15,
   "metadata": {},
   "outputs": [],
   "source": [
    "from langchain.memory import ConversationSummaryBufferMemory\n",
    "from langchain_openai import ChatOpenAI\n",
    "\n",
    "\n",
    "llm = ChatOpenAI(temperature=0.1)\n",
    "memory = ConversationSummaryBufferMemory(llm=llm, max_token_limit=150, return_messages=True)\n",
    "\n",
    "\n",
    "def add_message(input, output):\n",
    "    memory.save_context({'input': input}, {'output': output})\n",
    "\n",
    "\n",
    "def get_history():\n",
    "    return memory.load_memory_variables({})\n",
    "\n",
    "\n",
    "add_message(\"Hi, I'm Flynn. I live in South Korea.\", \"Wow, That's so cool!\")"
   ]
  },
  {
   "cell_type": "code",
   "execution_count": 16,
   "metadata": {},
   "outputs": [
    {
     "data": {
      "text/plain": [
       "{'history': [HumanMessage(content=\"Hi, I'm Flynn. I live in South Korea.\"),\n",
       "  AIMessage(content=\"Wow, That's so cool!\")]}"
      ]
     },
     "execution_count": 16,
     "metadata": {},
     "output_type": "execute_result"
    }
   ],
   "source": [
    "get_history()"
   ]
  },
  {
   "cell_type": "code",
   "execution_count": 17,
   "metadata": {},
   "outputs": [],
   "source": [
    "add_message(\"South Korea is so pretty.\", \"I wish I could go!\")"
   ]
  },
  {
   "cell_type": "code",
   "execution_count": 18,
   "metadata": {},
   "outputs": [
    {
     "data": {
      "text/plain": [
       "{'history': [HumanMessage(content=\"Hi, I'm Flynn. I live in South Korea.\"),\n",
       "  AIMessage(content=\"Wow, That's so cool!\"),\n",
       "  HumanMessage(content='South Korea is so pretty.'),\n",
       "  AIMessage(content='I wish I could go!')]}"
      ]
     },
     "execution_count": 18,
     "metadata": {},
     "output_type": "execute_result"
    }
   ],
   "source": [
    "get_history()"
   ]
  },
  {
   "cell_type": "code",
   "execution_count": 19,
   "metadata": {},
   "outputs": [
    {
     "data": {
      "text/plain": [
       "{'history': [HumanMessage(content=\"Hi, I'm Flynn. I live in South Korea.\"),\n",
       "  AIMessage(content=\"Wow, That's so cool!\"),\n",
       "  HumanMessage(content='South Korea is so pretty.'),\n",
       "  AIMessage(content='I wish I could go!'),\n",
       "  HumanMessage(content='How far is Koread from Argentina?'),\n",
       "  AIMessage(content=\"I don't know! But I think it's super far!\")]}"
      ]
     },
     "execution_count": 19,
     "metadata": {},
     "output_type": "execute_result"
    }
   ],
   "source": [
    "add_message(\"How far is Koread from Argentina?\", \"I don't know! But I think it's super far!\")\n",
    "get_history()"
   ]
  },
  {
   "cell_type": "code",
   "execution_count": 21,
   "metadata": {},
   "outputs": [
    {
     "data": {
      "text/plain": [
       "{'history': [SystemMessage(content=\"Flynn introduces himself as living in South Korea, and the AI expresses admiration for the country. Flynn mentions how pretty South Korea is, and the AI expresses a desire to visit. When Flynn asks about the distance between South Korea and Argentina, the AI admits it doesn't know but assumes it's far.\"),\n",
       "  HumanMessage(content='What do you want to see at South Korea?'),\n",
       "  AIMessage(content='South Korea has many places to visit, including palaces, villages, and other attractions: Gyeongbokgung Palace, Bukchon Hanok Village, Namsan Tower, and many more! I want to see them all!'),\n",
       "  HumanMessage(content='What do you want to see at South Korea?'),\n",
       "  AIMessage(content='South Korea has many places to visit, including palaces, villages, and other attractions: Gyeongbokgung Palace, Bukchon Hanok Village, Namsan Tower, and many more! I want to see them all!')]}"
      ]
     },
     "execution_count": 21,
     "metadata": {},
     "output_type": "execute_result"
    }
   ],
   "source": [
    "add_message(\"What do you want to see at South Korea?\", \"South Korea has many places to visit, including palaces, villages, and other attractions: Gyeongbokgung Palace, Bukchon Hanok Village, Namsan Tower, and many more! I want to see them all!\")\n",
    "get_history()"
   ]
  },
  {
   "cell_type": "code",
   "execution_count": 22,
   "metadata": {},
   "outputs": [
    {
     "data": {
      "text/plain": [
       "{'history': [SystemMessage(content=\"Flynn introduces himself as living in South Korea, and the AI expresses admiration for the country, mentioning how pretty it is. The AI expresses a desire to visit South Korea and lists some attractions it wants to see. When Flynn asks about the distance between South Korea and Argentina, the AI admits it doesn't know but assumes it's far.\"),\n",
       "  HumanMessage(content='What do you want to see at South Korea?'),\n",
       "  AIMessage(content='South Korea has many places to visit, including palaces, villages, and other attractions: Gyeongbokgung Palace, Bukchon Hanok Village, Namsan Tower, and many more! I want to see them all!'),\n",
       "  HumanMessage(content='And what do you want to eat in South Korea?'),\n",
       "  AIMessage(content='I want to eat Kimchi, Bibimbap, Bulgogi, and many other Korean dishes. I heard they are delicious!')]}"
      ]
     },
     "execution_count": 22,
     "metadata": {},
     "output_type": "execute_result"
    }
   ],
   "source": [
    "add_message(\"And what do you want to eat in South Korea?\", \"I want to eat Kimchi, Bibimbap, Bulgogi, and many other Korean dishes. I heard they are delicious!\")\n",
    "get_history()"
   ]
  }
 ],
 "metadata": {
  "kernelspec": {
   "display_name": ".venv",
   "language": "python",
   "name": "python3"
  },
  "language_info": {
   "codemirror_mode": {
    "name": "ipython",
    "version": 3
   },
   "file_extension": ".py",
   "mimetype": "text/x-python",
   "name": "python",
   "nbconvert_exporter": "python",
   "pygments_lexer": "ipython3",
   "version": "3.11.8"
  }
 },
 "nbformat": 4,
 "nbformat_minor": 2
}
